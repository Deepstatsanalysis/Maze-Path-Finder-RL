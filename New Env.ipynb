{
 "cells": [
  {
   "cell_type": "code",
   "execution_count": 50,
   "metadata": {},
   "outputs": [],
   "source": [
    "import numpy as np\n",
    "import matplotlib.pyplot as plt\n",
    "\n",
    "class MazeGen():\n",
    "    def __init__(self,row:int,col:int,random_start = False):\n",
    "        self.row = row\n",
    "        self.col = col\n",
    "        self.random_start = random_start\n",
    "\n",
    "        self.player = [0,0]\n",
    "        self.trap = []\n",
    "        self.star = []\n",
    "        self.terminal= [self.row-1,self.col-1]\n",
    "        \n",
    "        \n",
    "        self.step_reward = -1\n",
    "        self.star_reward = 10 \n",
    "        self.trap_reward = -10 \n",
    "        \n",
    "        self._set_up_maze()\n",
    "    \n",
    "    def _set_up_maze(self):\n",
    "        \"\"\" maze has no walls \"\"\"\n",
    "        self.maze = np.zeros([self.row,self.col])\n",
    "        \n",
    "    def get_state_info(self,loc):\n",
    "        \"\"\" return the state info of that loc\"\"\"\n",
    "        \n",
    "        info = []\n",
    "        \n",
    "        if loc[0]<0 or loc[0]>= self.row or loc[1]<0 or loc[1] >= self.col:\n",
    "            info.append('out')\n",
    "        if loc[0] == 0:\n",
    "            info.append(\"left edge\")\n",
    "        if loc[0] == self.row - 1:\n",
    "            info.append(\"right edge\")\n",
    "        if loc[1] == 0:\n",
    "            info.append(\"down edge\")\n",
    "        if loc[1] == self.col -1:\n",
    "            info.append(\"up edge\")\n",
    "        if loc in self.trap:\n",
    "            info.append(\"trap\")\n",
    "        if loc in self.star:\n",
    "            info.append(\"star\")\n",
    "        if loc == self.terminal:\n",
    "            info.append(\"terminal\")\n",
    "        if loc == self.player:\n",
    "            info.append(\"player\")\n",
    "\n",
    "        return info\n",
    "    \n",
    "    def check_reward(self,loc):\n",
    "        \"\"\" return current loc reward \"\"\"\n",
    "        info = self.get_state_info(loc)\n",
    "        if \"star\" in info:\n",
    "            return self.star_reward\n",
    "        if \"trap\" in info:\n",
    "            return self.trap_reward\n",
    "\n",
    "        return self.step_reward\n",
    "    \n",
    "    def check_action_reward(self,action,loc):\n",
    "        if action == \"up\":\n",
    "            loc_1 = [loc[0],loc[1]+1]\n",
    "        if action == \"down\":\n",
    "            loc_1 = [loc[0],loc[1]-1]\n",
    "        if action == \"left\":\n",
    "            loc_1 = [loc[0]-1,loc[1]]\n",
    "        if action == \"right\":\n",
    "            loc_1 = [loc[0]+1,loc[1]]\n",
    "        assert (0 <= loc_1[0] < self.row ) & (0 <= loc_1[1] < self.col)\n",
    "        return self.check_reward(loc_1)\n",
    "\n",
    "\n",
    "\n",
    "    def set_grid(self,player = None,star = None,trap = None,terminal = None):\n",
    "        \"\"\" \n",
    "            this script will replace player, and terminal.\n",
    "            this script will add star and trap\n",
    "            required format [x,y]\n",
    "            default one terminal state\n",
    "            \n",
    "                                            \"\"\"\n",
    "        if player is not None:\n",
    "            self.player = player\n",
    "        if star is not None:\n",
    "            self.star.append(star)\n",
    "        if trap is not None:\n",
    "            self.trap.append(trap)\n",
    "        if terminal is not None:\n",
    "            self.terminal = terminal\n",
    "    \n",
    "    def set_reward(self, step_reward = -1, star_reward = 10, trap_reward = -10):\n",
    "        \"\"\"\n",
    "            this script will replace rewards set\n",
    "                                                \"\"\"\n",
    "        self.step_reward = step_reward\n",
    "        self.star_reward = star_reward\n",
    "        self.trap_reward = trap_reward\n",
    "        \n",
    "\n",
    "    def _avaiable_actions(self,loc):\n",
    "        \"\"\" list avaiable actions \"\"\"\n",
    "        \n",
    "        actions = ['up','down','left','right']\n",
    "        info = self.get_state_info(loc)\n",
    "        \n",
    "        if \"up edge\" in info:\n",
    "            actions.remove(\"up\")\n",
    "        if \"down edge\" in info:\n",
    "            actions.remove(\"down\")\n",
    "        if \"left edge\" in info:\n",
    "            actions.remove(\"left\")\n",
    "        if \"right edge\" in info:\n",
    "            actions.remove(\"right\")\n",
    "            \n",
    "        return actions\n",
    "\n",
    "        \n",
    "    def render(self,figsize = (10,5)):\n",
    "\n",
    "        plt.figure(figsize=figsize)\n",
    "        plt.imshow(self.maze, interpolation='none', origin='lower', cmap='Greys')\n",
    " \n",
    "        for star in self.star:\n",
    "            plt.plot(star[0], star[1], 'y*', mec='none', markersize=17)\n",
    "        for trap in self.trap:\n",
    "            plt.plot(trap[0], trap[1], 'rX', mec='none', markersize=17)\n",
    "\n",
    "        plt.plot(self.terminal[0], self.terminal[1], 'D', mec='none', markersize=17)\n",
    "        plt.plot(self.player[0], self.player[1], 'bo', mec='none', markersize=8)\n",
    "        plt.xlim(-0.5, self.row - 0.5)\n",
    "        plt.ylim(-0.5, self.col - 0.5)\n",
    "        plt.xticks(np.arange(0.5,self.row-0.5,step = 1),np.arange(self.row))\n",
    "        plt.yticks(np.arange(0.5,self.col-0.5,step = 1),np.arange(self.col))\n",
    "        plt.grid(True)"
   ]
  },
  {
   "cell_type": "code",
   "execution_count": 51,
   "metadata": {},
   "outputs": [
    {
     "data": {
      "image/png": "[encoded data removed]",
      "text/plain": [
       "<Figure size 720x360 with 1 Axes>"
      ]
     },
     "metadata": {
      "needs_background": "light"
     },
     "output_type": "display_data"
    }
   ],
   "source": [
    "maze = MazeGen(4,4)\n",
    "maze.render()"
   ]
  },
  {
   "cell_type": "code",
   "execution_count": 52,
   "metadata": {
    "scrolled": false
   },
   "outputs": [
    {
     "data": {
      "text/plain": [
       "['right edge', 'up edge', 'terminal']"
      ]
     },
     "execution_count": 52,
     "metadata": {},
     "output_type": "execute_result"
    }
   ],
   "source": [
    "maze.get_state_info([3,3])"
   ]
  },
  {
   "cell_type": "code",
   "execution_count": 53,
   "metadata": {},
   "outputs": [
    {
     "data": {
      "text/plain": [
       "['down', 'left']"
      ]
     },
     "execution_count": 53,
     "metadata": {},
     "output_type": "execute_result"
    }
   ],
   "source": [
    "maze._avaiable_actions([3,3])"
   ]
  },
  {
   "cell_type": "code",
   "execution_count": 54,
   "metadata": {},
   "outputs": [
    {
     "data": {
      "image/png": "[encoded data removed]",
      "text/plain": [
       "<Figure size 720x360 with 1 Axes>"
      ]
     },
     "metadata": {
      "needs_background": "light"
     },
     "output_type": "display_data"
    }
   ],
   "source": [
    "maze.set_grid(star=[1,1])\n",
    "maze.set_grid(star=[2,3])\n",
    "maze.set_grid(trap=[2,2])\n",
    "maze.render()"
   ]
  },
  {
   "cell_type": "code",
   "execution_count": 55,
   "metadata": {},
   "outputs": [
    {
     "data": {
      "text/plain": [
       "['trap']"
      ]
     },
     "execution_count": 55,
     "metadata": {},
     "output_type": "execute_result"
    }
   ],
   "source": [
    "maze.get_state_info([2,2])"
   ]
  },
  {
   "cell_type": "code",
   "execution_count": 56,
   "metadata": {},
   "outputs": [
    {
     "data": {
      "text/plain": [
       "['up', 'down', 'left', 'right']"
      ]
     },
     "execution_count": 56,
     "metadata": {},
     "output_type": "execute_result"
    }
   ],
   "source": [
    "maze._avaiable_actions([2,2])"
   ]
  },
  {
   "cell_type": "code",
   "execution_count": 57,
   "metadata": {},
   "outputs": [
    {
     "data": {
      "text/plain": [
       "-10"
      ]
     },
     "execution_count": 57,
     "metadata": {},
     "output_type": "execute_result"
    }
   ],
   "source": [
    "maze.check_reward([2,2])"
   ]
  },
  {
   "cell_type": "code",
   "execution_count": 58,
   "metadata": {},
   "outputs": [
    {
     "data": {
      "text/plain": [
       "10"
      ]
     },
     "execution_count": 58,
     "metadata": {},
     "output_type": "execute_result"
    }
   ],
   "source": [
    "maze.check_reward([1,1])"
   ]
  }
 ],
 "metadata": {
  "kernelspec": {
   "display_name": "Python 3",
   "language": "python",
   "name": "python3"
  },
  "language_info": {
   "codemirror_mode": {
    "name": "ipython",
    "version": 3
   },
   "file_extension": ".py",
   "mimetype": "text/x-python",
   "name": "python",
   "nbconvert_exporter": "python",
   "pygments_lexer": "ipython3",
   "version": "3.6.7"
  },
  "varInspector": {
   "cols": {
    "lenName": 16,
    "lenType": 16,
    "lenVar": 40
   },
   "kernels_config": {
    "python": {
     "delete_cmd_postfix": "",
     "delete_cmd_prefix": "del ",
     "library": "var_list.py",
     "varRefreshCmd": "print(var_dic_list())"
    },
    "r": {
     "delete_cmd_postfix": ") ",
     "delete_cmd_prefix": "rm(",
     "library": "var_list.r",
     "varRefreshCmd": "cat(var_dic_list()) "
    }
   },
   "types_to_exclude": [
    "module",
    "function",
    "builtin_function_or_method",
    "instance",
    "_Feature"
   ],
   "window_display": false
  }
 },
 "nbformat": 4,
 "nbformat_minor": 2
}
