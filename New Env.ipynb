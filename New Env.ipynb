{
 "cells": [
  {
   "cell_type": "code",
   "execution_count": 108,
   "metadata": {},
   "outputs": [],
   "source": [
    "import numpy as np\n",
    "import matplotlib.pyplot as plt\n",
    "\n",
    "class MazeGen():\n",
    "    def __init__(self,row:int,col:int,random_start = False):\n",
    "        self.row = row\n",
    "        self.col = col\n",
    "        self.random_start = random_start\n",
    "\n",
    "        self.player = [0,0]\n",
    "        self.trap = []\n",
    "        self.star = []\n",
    "        self.terminal= [self.row-1,self.col-1]\n",
    "        \n",
    "        \n",
    "        self.step_reward = -1\n",
    "        self.star_reward = 10 \n",
    "        \n",
    "        self._set_up_maze()\n",
    "        \n",
    "    def get_state_info(self,loc):\n",
    "        \"\"\" return the state info of that loc\"\"\"\n",
    "        if loc[0]<0 or loc[0]>= self.row or loc[1]<0 or loc[1] >= self.col:\n",
    "            return \"out\"\n",
    "        if loc in self.trap:\n",
    "            return \"trap\"\n",
    "        if loc in self.star:\n",
    "            return \"star\"\n",
    "        if loc in self.terminal:\n",
    "            return \"terminal\"\n",
    "    \n",
    "    def _set_up_maze(self):\n",
    "        \"\"\" maze has no walls \"\"\"\n",
    "        self.maze = np.zeros([self.row,self.col])\n",
    "\n",
    "    def set_grid(self,player =[0,0],star=None,trap=None,terminal=None):\n",
    "        \"\"\" \n",
    "            this script will replace player, and terminal.\n",
    "            this script will add star and trap\n",
    "            required format [x,y]\n",
    "            default one terminal state\n",
    "            \n",
    "                            \"\"\"\n",
    "        self.player = player\n",
    "        if star is not None:\n",
    "            self.star.append(star)\n",
    "        if trap is not None:\n",
    "            self.trap.append(trap)\n",
    "        if terminal is not None:\n",
    "            print(terminal)\n",
    "            self.terminal = terminal\n",
    "            # self.terminal.append(terminal) # uncomment this line to make multiple terminal\n",
    "        \n",
    "    def set_step_reward(self,step_reward):\n",
    "        \"\"\" set step reward \"\"\"\n",
    "        self.step_reward = step_reward\n",
    "\n",
    "    def set_star_reward(self,star_reward):\n",
    "        \"\"\" set star reward \"\"\"\n",
    "        self.star_reward = star_reward \n",
    "\n",
    "        \n",
    "    def render(self):\n",
    "        plt.figure(figsize=(10, 5))\n",
    "        plt.imshow(self.maze, interpolation='none', origin='lower', cmap='Greys')\n",
    " \n",
    "        for star in self.star:\n",
    "            plt.plot(star[0], star[1], 'y*', mec='none', markersize=17)\n",
    "\n",
    "        \n",
    "        plt.plot(self.terminal[0], self.terminal[1], 'X', mec='none', markersize=17)\n",
    "        plt.plot(self.player[0], self.player[1], 'ro', mec='none', markersize=8)\n",
    "        plt.xlim(-0.5, self.row - 0.5)\n",
    "        plt.ylim(-0.5, self.col - 0.5)\n",
    "        plt.xticks(np.arange(0.5,self.row-0.5,step = 1),np.arange(self.row))\n",
    "        plt.yticks(np.arange(0.5,self.col-0.5,step = 1),np.arange(self.col))\n",
    "        plt.grid(True)\n"
   ]
  },
  {
   "cell_type": "code",
   "execution_count": 109,
   "metadata": {},
   "outputs": [
    {
     "data": {
      "image/png": "[encoded data removed]",
      "text/plain": [
       "<Figure size 720x360 with 1 Axes>"
      ]
     },
     "metadata": {
      "needs_background": "light"
     },
     "output_type": "display_data"
    }
   ],
   "source": [
    "maze = MazeGen(4,4)\n",
    "maze.render()"
   ]
  },
  {
   "cell_type": "code",
   "execution_count": 116,
   "metadata": {},
   "outputs": [],
   "source": [
    "maze.set_grid(star=[2,2])\n",
    "maze.set_grid(star=[2,3])"
   ]
  },
  {
   "cell_type": "code",
   "execution_count": 117,
   "metadata": {},
   "outputs": [
    {
     "data": {
      "image/png": "[encoded data removed]",
      "text/plain": [
       "<Figure size 720x360 with 1 Axes>"
      ]
     },
     "metadata": {
      "needs_background": "light"
     },
     "output_type": "display_data"
    }
   ],
   "source": [
    "maze.render()"
   ]
  },
  {
   "cell_type": "code",
   "execution_count": 118,
   "metadata": {},
   "outputs": [
    {
     "data": {
      "text/plain": [
       "'star'"
      ]
     },
     "execution_count": 118,
     "metadata": {},
     "output_type": "execute_result"
    }
   ],
   "source": [
    "maze.get_state_info([2,2])"
   ]
  },
  {
   "cell_type": "code",
   "execution_count": null,
   "metadata": {},
   "outputs": [],
   "source": []
  }
 ],
 "metadata": {
  "kernelspec": {
   "display_name": "Python 3",
   "language": "python",
   "name": "python3"
  },
  "language_info": {
   "codemirror_mode": {
    "name": "ipython",
    "version": 3
   },
   "file_extension": ".py",
   "mimetype": "text/x-python",
   "name": "python",
   "nbconvert_exporter": "python",
   "pygments_lexer": "ipython3",
   "version": "3.6.7"
  },
  "varInspector": {
   "cols": {
    "lenName": 16,
    "lenType": 16,
    "lenVar": 40
   },
   "kernels_config": {
    "python": {
     "delete_cmd_postfix": "",
     "delete_cmd_prefix": "del ",
     "library": "var_list.py",
     "varRefreshCmd": "print(var_dic_list())"
    },
    "r": {
     "delete_cmd_postfix": ") ",
     "delete_cmd_prefix": "rm(",
     "library": "var_list.r",
     "varRefreshCmd": "cat(var_dic_list()) "
    }
   },
   "types_to_exclude": [
    "module",
    "function",
    "builtin_function_or_method",
    "instance",
    "_Feature"
   ],
   "window_display": false
  }
 },
 "nbformat": 4,
 "nbformat_minor": 2
}
