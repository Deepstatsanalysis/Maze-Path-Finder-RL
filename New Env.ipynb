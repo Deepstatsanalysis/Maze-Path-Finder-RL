{
 "cells": [
  {
   "cell_type": "code",
   "execution_count": 13,
   "metadata": {},
   "outputs": [],
   "source": [
    "import numpy as np\n",
    "import matplotlib.pyplot as plt\n",
    "\n",
    "class MazeGen():\n",
    "    def __init__(self,row:int,col:int,random_start = False):\n",
    "        self._row = row\n",
    "        self._col = col\n",
    "        self._random_start = random_start\n",
    "\n",
    "        self._player = [0,0]\n",
    "        self._trap = []\n",
    "        self._star = []\n",
    "        self._terminal= [self._row-1,self._col-1]\n",
    "        \n",
    "        \n",
    "        self._step_reward = -1\n",
    "        self._star_reward = 10 \n",
    "        self._trap_reward = -10\n",
    "        self._terminal_reward = 100\n",
    "        \n",
    "        self._terminal_status = False\n",
    "        \n",
    "        self._set_up_maze()\n",
    "    \n",
    "    def reset(self):\n",
    "        self._player = [0,0]\n",
    "        self._terminal_status = False\n",
    "        self._set_up_maze()\n",
    "    \n",
    "    def _set_up_maze(self):\n",
    "        \"\"\" maze has no walls \"\"\"\n",
    "        self._maze = np.zeros([self._row,self._col])\n",
    "        \n",
    "    def _get_state_info(self,loc):\n",
    "        \"\"\" return the state info of that loc\"\"\"\n",
    "        \n",
    "        info = []\n",
    "        \n",
    "        if loc[0]<0 or loc[0]>= self._row or loc[1]<0 or loc[1] >= self._col:\n",
    "            info.append('out')\n",
    "        if loc[0] == 0:\n",
    "            info.append(\"left edge\")\n",
    "        if loc[0] == self._row - 1:\n",
    "            info.append(\"right edge\")\n",
    "        if loc[1] == 0:\n",
    "            info.append(\"down edge\")\n",
    "        if loc[1] == self._col -1:\n",
    "            info.append(\"up edge\")\n",
    "        if loc in self._trap:\n",
    "            info.append(\"trap\")\n",
    "        if loc in self._star:\n",
    "            info.append(\"star\")\n",
    "        if loc == self._terminal:\n",
    "            info.append(\"terminal\")\n",
    "        if loc == self._player:\n",
    "            info.append(\"player\")\n",
    "\n",
    "        return info\n",
    "    \n",
    "    def _check_reward(self,loc):\n",
    "        \"\"\" return current loc reward \"\"\"\n",
    "        info = self._get_state_info(loc)\n",
    "        if \"star\" in info:\n",
    "            return self._star_reward\n",
    "        if \"trap\" in info:\n",
    "            return self._trap_reward\n",
    "        if \"terminal\" in info:\n",
    "            return self._terminal_reward\n",
    "\n",
    "        return self._step_reward\n",
    "    \n",
    "    def _check_action_reward(self,action,loc):\n",
    "        \"\"\" take action, and check if target loc_1 is off grid\"\"\"\n",
    "        if action == \"up\":\n",
    "            loc_1 = [loc[0],loc[1]+1]\n",
    "        if action == \"down\":\n",
    "            loc_1 = [loc[0],loc[1]-1]\n",
    "        if action == \"left\":\n",
    "            loc_1 = [loc[0]-1,loc[1]]\n",
    "        if action == \"right\":\n",
    "            loc_1 = [loc[0]+1,loc[1]]\n",
    "        assert (0 <= loc_1[0] < self._row ) & (0 <= loc_1[1] < self._col)\n",
    "        return loc_1,self._check_reward(loc_1)\n",
    "    \n",
    "    def _apply_action(self,aciton,loc):\n",
    "        \"\"\" apply action from loc to loc_1 \n",
    "            if loc on a _star, it is gone  \"\"\"\n",
    "        if loc in self._star:\n",
    "            self._star.remove(loc)\n",
    "\n",
    "        loc_1,r = self._check_action_reward(aciton,loc)\n",
    "        \n",
    "        \n",
    "        \n",
    "        return loc_1\n",
    "\n",
    "\n",
    "\n",
    "    def set_grid(self,player = None,star = None,trap = None,terminal = None):\n",
    "        \"\"\" \n",
    "            this script will replace _player, and _terminal.\n",
    "            this script will add _star and _trap\n",
    "            required format [x,y]\n",
    "            default one _terminal state\n",
    "            \n",
    "                                            \"\"\"\n",
    "        if player is not None:\n",
    "            self._player = player\n",
    "        if star is not None:\n",
    "            self._star.append(star)\n",
    "        if trap is not None:\n",
    "            self._trap.append(trap)\n",
    "        if terminal is not None:\n",
    "            self._terminal = terminal\n",
    "    \n",
    "    def set_reward(self, step_reward = -1, star_reward = 10, trap_reward = -10):\n",
    "        \"\"\"\n",
    "            this script will replace rewards set\n",
    "                                                \"\"\"\n",
    "        self._step_reward = step_reward\n",
    "        self._star_reward = star_reward\n",
    "        self._trap_reward = trap_reward\n",
    "        \n",
    "\n",
    "    def _avaiable_actions(self,loc):\n",
    "        \"\"\" list avaiable actions \"\"\"\n",
    "        \n",
    "        actions = ['up','down','left','right']\n",
    "        info = self._get_state_info(loc)\n",
    "        \n",
    "        if \"up edge\" in info:\n",
    "            actions.remove(\"up\")\n",
    "        if \"down edge\" in info:\n",
    "            actions.remove(\"down\")\n",
    "        if \"left edge\" in info:\n",
    "            actions.remove(\"left\")\n",
    "        if \"right edge\" in info:\n",
    "            actions.remove(\"right\")\n",
    "            \n",
    "        return actions\n",
    "        \n",
    "    def render(self,figsize = (10,5)):\n",
    "        \"\"\" modify figsize as a parameter \"\"\"\n",
    "        plt.figure(figsize=figsize)\n",
    "        plt.imshow(self._maze, interpolation='none', origin='lower', cmap='Greys')\n",
    " \n",
    "        for _star in self._star:\n",
    "            plt.plot(_star[0], _star[1], 'y*', mec='none', markersize=17)\n",
    "        for _trap in self._trap:\n",
    "            plt.plot(_trap[0], _trap[1], 'rX', mec='none', markersize=17)\n",
    "\n",
    "        plt.plot(self._terminal[0], self._terminal[1], 'D', mec='none', markersize=17)\n",
    "        plt.plot(self._player[0], self._player[1], 'bo', mec='none', markersize=8)\n",
    "        plt.xlim(-0.5, self._row - 0.5)\n",
    "        plt.ylim(-0.5, self._col - 0.5)\n",
    "        plt.xticks(np.arange(-0.5,self._row+0.5,step = 1),np.arange(self._row))\n",
    "        plt.yticks(np.arange(-0.5,self._col+0.5,step = 1),np.arange(self._col))\n",
    "        plt.grid(True)"
   ]
  },
  {
   "cell_type": "code",
   "execution_count": 14,
   "metadata": {},
   "outputs": [
    {
     "data": {
      "image/png": "[encoded data removed]",
      "text/plain": [
       "<Figure size 720x360 with 1 Axes>"
      ]
     },
     "metadata": {
      "needs_background": "light"
     },
     "output_type": "display_data"
    }
   ],
   "source": [
    "maze = MazeGen(4,4)\n",
    "maze.render()"
   ]
  },
  {
   "cell_type": "code",
   "execution_count": 15,
   "metadata": {
    "scrolled": false
   },
   "outputs": [
    {
     "data": {
      "text/plain": [
       "['right edge', 'up edge', 'terminal']"
      ]
     },
     "execution_count": 15,
     "metadata": {},
     "output_type": "execute_result"
    }
   ],
   "source": [
    "maze._get_state_info([3,3])"
   ]
  },
  {
   "cell_type": "code",
   "execution_count": 16,
   "metadata": {},
   "outputs": [
    {
     "data": {
      "image/png": "[encoded data removed]",
      "text/plain": [
       "<Figure size 720x360 with 1 Axes>"
      ]
     },
     "metadata": {
      "needs_background": "light"
     },
     "output_type": "display_data"
    }
   ],
   "source": [
    "maze.set_grid(star=[1,1])\n",
    "maze.set_grid(star=[2,3])\n",
    "maze.set_grid(trap=[2,2])\n",
    "maze.render()"
   ]
  },
  {
   "cell_type": "code",
   "execution_count": 17,
   "metadata": {},
   "outputs": [
    {
     "data": {
      "text/plain": [
       "([2, 3], 10)"
      ]
     },
     "execution_count": 17,
     "metadata": {},
     "output_type": "execute_result"
    }
   ],
   "source": [
    "maze._check_action_reward('up',[2,2])"
   ]
  },
  {
   "cell_type": "code",
   "execution_count": 10,
   "metadata": {},
   "outputs": [
    {
     "data": {
      "text/plain": [
       "[2, 3]"
      ]
     },
     "execution_count": 10,
     "metadata": {},
     "output_type": "execute_result"
    }
   ],
   "source": [
    "maze._apply_action('up',[2,2])"
   ]
  },
  {
   "cell_type": "code",
   "execution_count": 11,
   "metadata": {},
   "outputs": [
    {
     "data": {
      "image/png": "[encoded data removed]",
      "text/plain": [
       "<Figure size 720x360 with 1 Axes>"
      ]
     },
     "metadata": {
      "needs_background": "light"
     },
     "output_type": "display_data"
    }
   ],
   "source": [
    "maze.render()"
   ]
  },
  {
   "cell_type": "code",
   "execution_count": 12,
   "metadata": {},
   "outputs": [
    {
     "data": {
      "text/plain": [
       "10"
      ]
     },
     "execution_count": 12,
     "metadata": {},
     "output_type": "execute_result"
    }
   ],
   "source": [
    "maze._check_reward([2,3])"
   ]
  }
 ],
 "metadata": {
  "kernelspec": {
   "display_name": "Python 3",
   "language": "python",
   "name": "python3"
  },
  "varInspector": {
   "cols": {
    "lenName": 16,
    "lenType": 16,
    "lenVar": 40
   },
   "kernels_config": {
    "python": {
     "delete_cmd_postfix": "",
     "delete_cmd_prefix": "del ",
     "library": "var_list.py",
     "varRefreshCmd": "print(var_dic_list())"
    },
    "r": {
     "delete_cmd_postfix": ") ",
     "delete_cmd_prefix": "rm(",
     "library": "var_list.r",
     "varRefreshCmd": "cat(var_dic_list()) "
    }
   },
   "types_to_exclude": [
    "module",
    "function",
    "builtin_function_or_method",
    "instance",
    "_Feature"
   ],
   "window_display": false
  }
 },
 "nbformat": 4,
 "nbformat_minor": 2
}
