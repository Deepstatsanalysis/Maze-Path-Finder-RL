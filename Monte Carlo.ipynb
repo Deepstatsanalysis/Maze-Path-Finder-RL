{
 "cells": [
  {
   "cell_type": "code",
   "execution_count": 1,
   "metadata": {},
   "outputs": [],
   "source": [
    "import random\n",
    "import itertools\n",
    "import numpy as np\n",
    "from copy import deepcopy\n",
    "from MultiArmBandit import MultiArmBandit\n",
    "\n",
    "class MonteCarlo(MultiArmBandit):\n",
    "    def __init__(self,env,discount=1, epsilon=0):\n",
    "        super().__init__(env,epsilon)\n",
    "        self._env.reset()\n",
    "        self._discount = discount\n",
    "        self._star = deepcopy(self._env._star) # copy env\n",
    "\n",
    "    def _init_all_states(self):\n",
    "        \"\"\" get all states of the current board\n",
    "            for each star scenario create one set of states\"\"\"\n",
    "        self._scenarios = {}\n",
    "        num_star = len(self._env._star)\n",
    "        index = 0\n",
    "        for i in range(0,num_star+1):\n",
    "            for j in list(itertools.combinations(self._env._star,i)):\n",
    "                if len(j) == 0:\n",
    "                    self._scenarios[index] = [[]]\n",
    "                else:\n",
    "                    self._scenarios[index]  = j\n",
    "                index += 1\n",
    "            \n",
    "        self._all_states = {}\n",
    "        for i in self._scenarios.keys():\n",
    "            self._all_states[i] =[]    \n",
    "            for row in range(self._env._row):\n",
    "                for col in range(self._env._col):\n",
    "                    self._all_states[i].append((row, col))\n",
    "\n",
    "    \n",
    "    def _init_q_values(self):\n",
    "        \"\"\" initiate q value for all states \"\"\"\n",
    "        self._q_values = {}\n",
    "        \n",
    "        for scenario in self._all_states.keys():\n",
    "            values_dict = {}\n",
    "            for s in self._all_states[scenario]:\n",
    "                actions = self._env._avaiable_actions(s)\n",
    "\n",
    "                q_actions = {}\n",
    "                for action in actions:\n",
    "                    q_actions[action] = 0\n",
    "\n",
    "                values_dict[s] = q_actions\n",
    "            self._q_values[scenario] = values_dict\n",
    "    \n",
    "    def _init_action_count(self):\n",
    "        \"\"\" init action count for all states\n",
    "            this will be same as the init q_value (since defaul 0) \"\"\"\n",
    "        \n",
    "        # check all zeros\n",
    "        assert sum([x for i in self._q_values.values() for j in i.values() for x in j.values()]) == 0\n",
    "        \n",
    "        self._action_counts = deepcopy(self._q_values)\n",
    "        \n",
    "    def _get_next_action(self,scenario,loc):\n",
    "        \"\"\" greedy or epsilon greedy search\n",
    "            if multiple actions found in greedy\n",
    "            will take randomly              \"\"\"\n",
    "        action_list = self._check_avaiable_actions(loc)\n",
    "        rand = random.random()\n",
    "        \n",
    "        if 0 <= rand <= self._epsilon:\n",
    "            return random.choice(action_list)\n",
    "        \n",
    "        else:\n",
    "            q_list = []\n",
    "            for action in action_list:\n",
    "                q_list.append(self._q_values[scenario][(loc)][action])\n",
    "                \n",
    "            index = random.choice(np.argwhere(q_list == np.amax(q_list)))[0]\n",
    "\n",
    "            return action_list[index]    \n",
    "    \n",
    "    def _check_scenario(self):\n",
    "        \"\"\" check current scenario \"\"\"\n",
    "        current_star = self._env._star\n",
    "        if len(current_star) == 0:\n",
    "            return 0\n",
    "        for scenario,star in self._scenarios.items():\n",
    "            if current_star == list(star):\n",
    "                return scenario\n",
    "            \n",
    "    \n",
    "    def _update_q_values(self):\n",
    "        \"\"\" update all qs \"\"\"\n",
    "        self._current_discount = self._discount\n",
    "        G = 0\n",
    "        \n",
    "        for t in range(len(self.loc_record) - 1,-1,-1):\n",
    "                scenario = self.action_record[t][0]\n",
    "                state = self.action_record[t][1]\n",
    "                action = self.action_record[t][2]\n",
    "                r = self.reward_record[t]\n",
    "                act_count = self._action_counts[scenario][tuple(state)][action]\n",
    "                G += r*self._current_discount\n",
    "                old_q = self._q_values[scenario][tuple(state)][action]\n",
    "                \n",
    "                new_q = old_q + (1/act_count)*(G-old_q)\n",
    "                \n",
    "                self._q_values[scenario][tuple(state)][action] = new_q\n",
    "                \n",
    "                self._current_discount *= self._discount\n",
    "    \n",
    "    def _run_episode(self):\n",
    "        \"\"\" run episode once \"\"\"\n",
    "        self.loc_record = []\n",
    "        self.reward_record = []\n",
    "        self.action_record = []\n",
    "        self._terminal_status = False\n",
    "        \n",
    "        self._env._player = self._all_states[0][0] # player start loc\n",
    "        while not self._terminal_status :\n",
    "            scenario = self._check_scenario()\n",
    "            loc = self._env._player\n",
    "            self.loc_record.append(loc)\n",
    "            \n",
    "            action = self._get_next_action(scenario,tuple(loc))\n",
    "            self.action_record.append([scenario,loc,action])\n",
    "            self._action_counts[scenario][tuple(loc)][action] += 1\n",
    "            \n",
    "            loc_1 = self._apply_action(action,loc)\n",
    "            self._env._player = loc_1\n",
    "            \n",
    "            r = self._env._check_reward(loc_1)\n",
    "            self.reward_record.append(r)\n",
    "\n",
    "#             self.render()\n",
    "            \n",
    "#         print(\"steps taken:\",len(self.loc_record))\n",
    "            \n",
    "\n",
    "    def run_algorithm(self,num_episode = 1):\n",
    "        \n",
    "        self._env.reset()\n",
    "        self._env._star = deepcopy(self._star)\n",
    "        self._init_all_states()\n",
    "        self._init_q_values()\n",
    "        self._init_action_count()\n",
    "\n",
    "        \n",
    "        for i in range(num_episode):\n",
    "            self._env._star = deepcopy(self._star)\n",
    "            self._run_episode()\n",
    "            self._update_q_values()\n",
    "\n",
    "                \n",
    "    def plot_last_episode(self):\n",
    "        self._env._star = deepcopy(self._star)\n",
    "        for loc in self.loc_record:\n",
    "            self._env._player = loc\n",
    "            if loc in self._env._star:\n",
    "                self._env._star.remove(loc)\n",
    "            self.render()\n",
    "        self._env._player = self._env._terminal\n",
    "        self.render()\n",
    "        \n",
    "                \n"
   ]
  },
  {
   "cell_type": "code",
   "execution_count": 2,
   "metadata": {},
   "outputs": [
    {
     "data": {
      "image/png": "[encoded data removed]",
      "text/plain": [
       "<Figure size 720x360 with 1 Axes>"
      ]
     },
     "metadata": {
      "needs_background": "light"
     },
     "output_type": "display_data"
    }
   ],
   "source": [
    "from MazeEnv import MazeGen\n",
    "%matplotlib inline\n",
    "\n",
    "maze = MazeGen(4,4)\n",
    "maze.render()"
   ]
  },
  {
   "cell_type": "code",
   "execution_count": 3,
   "metadata": {},
   "outputs": [
    {
     "data": {
      "image/png": "[encoded data removed]",
      "text/plain": [
       "<Figure size 720x360 with 1 Axes>"
      ]
     },
     "metadata": {
      "needs_background": "light"
     },
     "output_type": "display_data"
    }
   ],
   "source": [
    "maze.set_grid(star=[1,1])\n",
    "maze.set_grid(star=[2,3])\n",
    "maze.set_grid(trap=[2,2])\n",
    "alg = MonteCarlo(maze,discount = 0.9,epsilon=0.2)\n",
    "alg.render()"
   ]
  },
  {
   "cell_type": "code",
   "execution_count": 4,
   "metadata": {
    "scrolled": true
   },
   "outputs": [],
   "source": [
    "alg.run_algorithm(10000)"
   ]
  },
  {
   "cell_type": "code",
   "execution_count": 5,
   "metadata": {
    "scrolled": false
   },
   "outputs": [
    {
     "data": {
      "image/png": "[encoded data removed]",
      "text/plain": [
       "<Figure size 720x360 with 1 Axes>"
      ]
     },
     "metadata": {
      "needs_background": "light"
     },
     "output_type": "display_data"
    },
    {
     "data": {
      "image/png": "[encoded data removed]",
      "text/plain": [
       "<Figure size 720x360 with 1 Axes>"
      ]
     },
     "metadata": {
      "needs_background": "light"
     },
     "output_type": "display_data"
    },
    {
     "data": {
      "image/png": "[encoded data removed]",
      "text/plain": [
       "<Figure size 720x360 with 1 Axes>"
      ]
     },
     "metadata": {
      "needs_background": "light"
     },
     "output_type": "display_data"
    },
    {
     "data": {
      "image/png": "[encoded data removed]",
      "text/plain": [
       "<Figure size 720x360 with 1 Axes>"
      ]
     },
     "metadata": {
      "needs_background": "light"
     },
     "output_type": "display_data"
    },
    {
     "data": {
      "image/png": "[encoded data removed]",
      "text/plain": [
       "<Figure size 720x360 with 1 Axes>"
      ]
     },
     "metadata": {
      "needs_background": "light"
     },
     "output_type": "display_data"
    },
    {
     "data": {
      "image/png": "[encoded data removed]",
      "text/plain": [
       "<Figure size 720x360 with 1 Axes>"
      ]
     },
     "metadata": {
      "needs_background": "light"
     },
     "output_type": "display_data"
    },
    {
     "data": {
      "image/png": "[encoded data removed]",
      "text/plain": [
       "<Figure size 720x360 with 1 Axes>"
      ]
     },
     "metadata": {
      "needs_background": "light"
     },
     "output_type": "display_data"
    }
   ],
   "source": [
    "alg.plot_last_episode()"
   ]
  },
  {
   "cell_type": "code",
   "execution_count": 6,
   "metadata": {
    "scrolled": false
   },
   "outputs": [
    {
     "data": {
      "text/plain": [
       "{0: {(0, 0): {'up': 0, 'right': 74.78929992188998},\n",
       "  (0, 1): {'up': 79.85067827295283,\n",
       "   'down': 73.78186425296997,\n",
       "   'right': 85.62860484326869},\n",
       "  (0, 2): {'up': 87.6179115,\n",
       "   'down': 84.2110236319473,\n",
       "   'right': 85.384001775924},\n",
       "  (0, 3): {'down': 0, 'right': 88.10130684375},\n",
       "  (1, 0): {'up': 81.95580038662402,\n",
       "   'left': 82.01867241093235,\n",
       "   'right': 84.87345772074845},\n",
       "  (1, 1): {'up': 70.51109102135999,\n",
       "   'down': 86.22858694499999,\n",
       "   'left': 82.426652539443,\n",
       "   'right': 86.61063866142855},\n",
       "  (1, 2): {'up': 0,\n",
       "   'down': 75.76770230099999,\n",
       "   'left': 85.63119724222157,\n",
       "   'right': 78.9311475},\n",
       "  (1, 3): {'down': 85.24405255015364,\n",
       "   'left': 87.2972262225,\n",
       "   'right': 88.15664827329486},\n",
       "  (2, 0): {'up': 85.58433491913705,\n",
       "   'left': 81.510023450376,\n",
       "   'right': 83.96278833156379},\n",
       "  (2, 1): {'up': 81.89999999999999,\n",
       "   'down': 84.66907624478759,\n",
       "   'left': 83.62059178508999,\n",
       "   'right': 87.02659792315605},\n",
       "  (2, 2): {'up': 85.97942704687499,\n",
       "   'down': 87.2439345,\n",
       "   'left': 0,\n",
       "   'right': 88.51821231029743},\n",
       "  (2, 3): {'down': 81.9, 'left': 87.5268238412025, 'right': 90.0},\n",
       "  (3, 0): {'up': 82.01295583662092, 'left': 70.47034544163466},\n",
       "  (3, 1): {'up': 87.43836051371892,\n",
       "   'down': 81.27365600444337,\n",
       "   'left': 82.52236319411422},\n",
       "  (3, 2): {'up': 90.0, 'down': 82.450591383598, 'left': 81.51405882352942},\n",
       "  (3, 3): {'down': 0, 'left': 0}},\n",
       " 1: {(0, 0): {'up': 89.55274493773739, 'right': 88.0289039654333},\n",
       "  (0, 1): {'up': 90.57504828230188,\n",
       "   'down': 84.22926016627393,\n",
       "   'right': 91.27349238739485},\n",
       "  (0, 2): {'up': 89.76933948955724,\n",
       "   'down': 90.56695817121772,\n",
       "   'right': 87.33794114362823},\n",
       "  (0, 3): {'down': 89.48215644722931, 'right': 87.6918525933705},\n",
       "  (1, 0): {'up': 0, 'left': 90.64805030099998, 'right': 87.70386639377014},\n",
       "  (1, 1): {'up': 84.86930239714286,\n",
       "   'down': 84.77241177482482,\n",
       "   'left': 84.65202252590215,\n",
       "   'right': 85.80548753077515},\n",
       "  (1, 2): {'up': 87.97499895208642,\n",
       "   'down': 86.01607485263602,\n",
       "   'left': 89.39634893528005,\n",
       "   'right': 84.03770835240832},\n",
       "  (1, 3): {'down': 87.71531771441329,\n",
       "   'left': 87.98938381082965,\n",
       "   'right': 88.6112172261476},\n",
       "  (2, 0): {'up': 85.19555779843841,\n",
       "   'left': 74.34762710639697,\n",
       "   'right': 87.77002131217739},\n",
       "  (2, 1): {'up': 86.85751465055168,\n",
       "   'down': 87.8460888197113,\n",
       "   'left': 90.30143614961294,\n",
       "   'right': 87.65789167939197},\n",
       "  (2, 2): {'up': 88.48953120901882,\n",
       "   'down': 88.30803732291369,\n",
       "   'left': 86.67476721144584,\n",
       "   'right': 86.18473858401566},\n",
       "  (2, 3): {'down': 81.37181271730208,\n",
       "   'left': 88.04974746677574,\n",
       "   'right': 90.0},\n",
       "  (3, 0): {'up': 85.33700761027367, 'left': 88.82173134123498},\n",
       "  (3, 1): {'up': 83.32706654056567,\n",
       "   'down': 80.1502703537967,\n",
       "   'left': 88.21191731092047},\n",
       "  (3, 2): {'up': 90.0, 'down': 89.91999146831915, 'left': 81.80460305999999},\n",
       "  (3, 3): {'down': 0, 'left': 0}},\n",
       " 2: {(0, 0): {'up': 81.47412323708518, 'right': 85.27506064782636},\n",
       "  (0, 1): {'up': 83.05384024966244,\n",
       "   'down': 79.0248064330791,\n",
       "   'right': 86.4997929613835},\n",
       "  (0, 2): {'up': 83.78223760680048,\n",
       "   'down': 83.2572695768895,\n",
       "   'right': 77.1403970154393},\n",
       "  (0, 3): {'down': 82.285429045006, 'right': 85.88860830893515},\n",
       "  (1, 0): {'up': 79.11784981091803,\n",
       "   'left': 85.2127829817216,\n",
       "   'right': 87.46224690855561},\n",
       "  (1, 1): {'up': 65.39544041874754,\n",
       "   'down': 86.73232352903008,\n",
       "   'left': 85.01316642780078,\n",
       "   'right': 75.59948825284508},\n",
       "  (1, 2): {'up': 85.89650478415307,\n",
       "   'down': 79.6130050901185,\n",
       "   'left': 80.33544866355592,\n",
       "   'right': 88.28813182846494},\n",
       "  (1, 3): {'down': 86.55270090992526, 'left': 85.22275443772499, 'right': 0},\n",
       "  (2, 0): {'up': 88.18476135007032,\n",
       "   'left': 83.57609030284978,\n",
       "   'right': 85.19488585370286},\n",
       "  (2, 1): {'up': 88.96591661416427,\n",
       "   'down': 86.54061490371127,\n",
       "   'left': 86.10539258221462,\n",
       "   'right': 86.7402225396527},\n",
       "  (2, 2): {'up': 96.91410717154841,\n",
       "   'down': 87.65311056276711,\n",
       "   'left': 88.41347104236799,\n",
       "   'right': 89.14364151923078},\n",
       "  (2, 3): {'down': 81.2646765, 'left': 87.09146356330206, 'right': 90.0},\n",
       "  (3, 0): {'up': 81.5463621, 'left': 85.19118817756967},\n",
       "  (3, 1): {'up': 89.09907146808513,\n",
       "   'down': 84.48999808201629,\n",
       "   'left': 85.76192905241281},\n",
       "  (3, 2): {'up': 90.0, 'down': 88.461, 'left': 89.1522},\n",
       "  (3, 3): {'down': 0, 'left': 0}},\n",
       " 3: {(0, 0): {'up': 94.12107485503887, 'right': 92.99058155869743},\n",
       "  (0, 1): {'up': 94.77811924686502,\n",
       "   'down': 93.76547590414992,\n",
       "   'right': 92.7680737780805},\n",
       "  (0, 2): {'up': 95.45965648201995,\n",
       "   'down': 93.8983111830393,\n",
       "   'right': 94.88948248146147},\n",
       "  (0, 3): {'down': 94.87903122222625, 'right': 96.19335311101587},\n",
       "  (1, 0): {'up': 93.06014041248488,\n",
       "   'left': 93.49026458695273,\n",
       "   'right': 92.58319756886749},\n",
       "  (1, 1): {'up': 87.31310818717354,\n",
       "   'down': 86.7656413788074,\n",
       "   'left': 85.85098990308501,\n",
       "   'right': 88.12220998184824},\n",
       "  (1, 2): {'up': 96.00128396444404,\n",
       "   'down': 93.18019224407543,\n",
       "   'left': 94.51242642201325,\n",
       "   'right': 89.20748625725561},\n",
       "  (1, 3): {'down': 94.79054067457244,\n",
       "   'left': 95.54713549222016,\n",
       "   'right': 97.09514256290282},\n",
       "  (2, 0): {'up': 92.89799036414998,\n",
       "   'left': 93.19581184853786,\n",
       "   'right': 90.27765932918572},\n",
       "  (2, 1): {'up': 87.81812999999998,\n",
       "   'down': 86.2046721,\n",
       "   'left': 93.53107547103852,\n",
       "   'right': 0},\n",
       "  (2, 2): {'up': 97.79029411764705,\n",
       "   'down': 91.92201991889794,\n",
       "   'left': 93.720312315,\n",
       "   'right': 82.58971534875},\n",
       "  (2, 3): {'down': 81.84621008719796,\n",
       "   'left': 87.81456589788917,\n",
       "   'right': 90.0},\n",
       "  (3, 0): {'up': 88.08759582299999, 'left': 91.10547335570637},\n",
       "  (3, 1): {'up': 89.19, 'down': 0, 'left': 88.04406383999998},\n",
       "  (3, 2): {'up': 90.0, 'down': 88.461, 'left': 86.322195},\n",
       "  (3, 3): {'down': 0, 'left': 0}}}"
      ]
     },
     "execution_count": 6,
     "metadata": {},
     "output_type": "execute_result"
    }
   ],
   "source": [
    "alg._q_values"
   ]
  },
  {
   "cell_type": "code",
   "execution_count": null,
   "metadata": {},
   "outputs": [],
   "source": []
  }
 ],
 "metadata": {
  "kernelspec": {
   "display_name": "Python 3",
   "language": "python",
   "name": "python3"
  },
  "language_info": {
   "codemirror_mode": {
    "name": "ipython",
    "version": 3
   },
   "file_extension": ".py",
   "mimetype": "text/x-python",
   "name": "python",
   "nbconvert_exporter": "python",
   "pygments_lexer": "ipython3",
   "version": "3.6.7"
  },
  "varInspector": {
   "cols": {
    "lenName": 16,
    "lenType": 16,
    "lenVar": 40
   },
   "kernels_config": {
    "python": {
     "delete_cmd_postfix": "",
     "delete_cmd_prefix": "del ",
     "library": "var_list.py",
     "varRefreshCmd": "print(var_dic_list())"
    },
    "r": {
     "delete_cmd_postfix": ") ",
     "delete_cmd_prefix": "rm(",
     "library": "var_list.r",
     "varRefreshCmd": "cat(var_dic_list()) "
    }
   },
   "types_to_exclude": [
    "module",
    "function",
    "builtin_function_or_method",
    "instance",
    "_Feature"
   ],
   "window_display": false
  }
 },
 "nbformat": 4,
 "nbformat_minor": 2
}
