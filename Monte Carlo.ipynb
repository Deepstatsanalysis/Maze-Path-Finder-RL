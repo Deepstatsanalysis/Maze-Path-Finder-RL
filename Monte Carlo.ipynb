{
 "cells": [
  {
   "cell_type": "code",
   "execution_count": 50,
   "metadata": {},
   "outputs": [],
   "source": [
    "import random\n",
    "import itertools\n",
    "import numpy as np\n",
    "from copy import deepcopy\n",
    "from MultiArmBandit import MultiArmBandit\n",
    "\n",
    "class MonteCarlo(MultiArmBandit):\n",
    "    def __init__(self,env,discount=1, epsilon=0):\n",
    "        super().__init__(env,epsilon)\n",
    "        self._env.reset()\n",
    "        self._discount = discount\n",
    "        self._star = deepcopy(self._env._star) # copy env\n",
    "        self._epsilon_copy = deepcopy(self._epsilon) # copy epsilon\n",
    "\n",
    "    def _init_all_states(self):\n",
    "        \"\"\" get all states of the current board\n",
    "            for each star scenario create one set of states\"\"\"\n",
    "        self._scenarios = {}\n",
    "        num_star = len(self._env._star)\n",
    "        index = 0\n",
    "        for i in range(0,num_star+1):\n",
    "            for j in list(itertools.combinations(self._env._star,i)):\n",
    "                if len(j) == 0:\n",
    "                    self._scenarios[index] = [[]]\n",
    "                else:\n",
    "                    self._scenarios[index]  = j\n",
    "                index += 1\n",
    "            \n",
    "        self._all_states = {}\n",
    "        for i in self._scenarios.keys():\n",
    "            self._all_states[i] =[]    \n",
    "            for row in range(self._env._row):\n",
    "                for col in range(self._env._col):\n",
    "                    self._all_states[i].append((row, col))\n",
    "\n",
    "    \n",
    "    def _init_q_values(self):\n",
    "        \"\"\" initiate q value for all states \"\"\"\n",
    "        self._q_values = {}\n",
    "        \n",
    "        for scenario in self._all_states.keys():\n",
    "            values_dict = {}\n",
    "            for s in self._all_states[scenario]:\n",
    "                actions = self._env._avaiable_actions(s)\n",
    "\n",
    "                q_actions = {}\n",
    "                for action in actions:\n",
    "                    q_actions[action] = 0\n",
    "\n",
    "                values_dict[s] = q_actions\n",
    "            self._q_values[scenario] = values_dict\n",
    "    \n",
    "    def _init_action_count(self):\n",
    "        \"\"\" init action count for all states\n",
    "            this will be same as the init q_value (since defaul 0) \"\"\"\n",
    "        \n",
    "        # check all zeros\n",
    "        assert sum([x for i in self._q_values.values() for j in i.values() for x in j.values()]) == 0\n",
    "        \n",
    "        self._action_counts = deepcopy(self._q_values)\n",
    "        \n",
    "    def _get_next_action(self,scenario,loc):\n",
    "        \"\"\" greedy or epsilon greedy search\n",
    "            if multiple actions found in greedy\n",
    "            will take randomly              \"\"\"\n",
    "        action_list = self._check_avaiable_actions(loc)\n",
    "        rand = random.random()\n",
    "        \n",
    "        if rand <= self._epsilon:\n",
    "            return random.choice(action_list)\n",
    "        \n",
    "        else:\n",
    "            q_list = []\n",
    "            for action in action_list:\n",
    "                q_list.append(self._q_values[scenario][(loc)][action])\n",
    "                \n",
    "            index = random.choice(np.argwhere(q_list == np.amax(q_list)))[0]\n",
    "\n",
    "            return action_list[index]    \n",
    "    \n",
    "    def _check_scenario(self):\n",
    "        \"\"\" check current scenario \"\"\"\n",
    "        current_star = self._env._star\n",
    "        if len(current_star) == 0:\n",
    "            return 0\n",
    "        for scenario,star in self._scenarios.items():\n",
    "            if current_star == list(star):\n",
    "                return scenario\n",
    "            \n",
    "    \n",
    "    def _update_q_values(self):\n",
    "        \"\"\" update all qs \"\"\"\n",
    "        self._current_discount = self._discount\n",
    "        G = 0\n",
    "        \n",
    "        for t in range(len(self.loc_record) - 1,-1,-1):\n",
    "                scenario = self.action_record[t][0]\n",
    "                state = self.action_record[t][1]\n",
    "                action = self.action_record[t][2]\n",
    "                r = self.reward_record[t]\n",
    "                act_count = self._action_counts[scenario][tuple(state)][action]\n",
    "                G += r*self._current_discount\n",
    "                old_q = self._q_values[scenario][tuple(state)][action]\n",
    "                \n",
    "                new_q = old_q + (1/act_count)*(G-old_q)\n",
    "                \n",
    "                self._q_values[scenario][tuple(state)][action] = new_q\n",
    "                \n",
    "                self._current_discount *= self._discount\n",
    "    \n",
    "    def _run_episode(self):\n",
    "        \"\"\" run episode once \"\"\"\n",
    "        self.loc_record = []\n",
    "        self.reward_record = []\n",
    "        self.action_record = []\n",
    "        self._terminal_status = False\n",
    "        \n",
    "        self._env._player = self._all_states[0][0] # player start loc\n",
    "        while not self._terminal_status :\n",
    "            scenario = self._check_scenario()\n",
    "            loc = self._env._player\n",
    "            self.loc_record.append(loc)\n",
    "            \n",
    "            action = self._get_next_action(scenario,tuple(loc))\n",
    "            self.action_record.append([scenario,loc,action])\n",
    "            self._action_counts[scenario][tuple(loc)][action] += 1\n",
    "            \n",
    "            loc_1 = self._apply_action(action,loc)\n",
    "            self._env._player = loc_1\n",
    "            \n",
    "            r = self._env._check_reward(loc_1)\n",
    "            self.reward_record.append(r)\n",
    "\n",
    "#             self.render()\n",
    "\n",
    "#         print(\"steps taken:\",len(self.loc_record))\n",
    "            \n",
    "\n",
    "    def run_algorithm(self,num_episode = 1,reduce_eps = False):\n",
    "        self._eps_step = self._epsilon_copy/num_episode\n",
    "        \n",
    "        self._env.reset()\n",
    "        \n",
    "        self._env._star = deepcopy(self._star)\n",
    "        self._epsilon = deepcopy(self._epsilon_copy)\n",
    "        \n",
    "        self._init_all_states()\n",
    "        self._init_q_values()\n",
    "        self._init_action_count()\n",
    "\n",
    "        \n",
    "        for i in range(num_episode):\n",
    "            if reduce_eps:\n",
    "                self._epsilon -= self._eps_step\n",
    "                \n",
    "            self._env._star = deepcopy(self._star)\n",
    "            \n",
    "            self._run_episode()\n",
    "            self._update_q_values()\n",
    "\n",
    "                \n",
    "    def plot_last_episode(self):\n",
    "        self._env._star = deepcopy(self._star)\n",
    "        for loc in self.loc_record:\n",
    "            self._env._player = loc\n",
    "            if loc in self._env._star:\n",
    "                self._env._star.remove(loc)\n",
    "            self.render()\n",
    "        self._env._player = self._env._terminal\n",
    "        self.render()\n",
    "        \n",
    "                \n"
   ]
  },
  {
   "cell_type": "code",
   "execution_count": 51,
   "metadata": {},
   "outputs": [
    {
     "data": {
      "image/png": "[encoded data removed]",
      "text/plain": [
       "<Figure size 720x360 with 1 Axes>"
      ]
     },
     "metadata": {
      "needs_background": "light"
     },
     "output_type": "display_data"
    }
   ],
   "source": [
    "from MazeEnv import MazeGen\n",
    "%matplotlib inline\n",
    "\n",
    "maze = MazeGen(6,6)\n",
    "maze.render()"
   ]
  },
  {
   "cell_type": "code",
   "execution_count": 52,
   "metadata": {},
   "outputs": [
    {
     "data": {
      "image/png": "[encoded data removed]",
      "text/plain": [
       "<Figure size 720x360 with 1 Axes>"
      ]
     },
     "metadata": {
      "needs_background": "light"
     },
     "output_type": "display_data"
    }
   ],
   "source": [
    "maze.set_grid(star=[1,1])\n",
    "maze.set_grid(star=[2,3])\n",
    "maze.set_grid(star=[4,4])\n",
    "maze.set_grid(trap=[2,2])\n",
    "alg = MonteCarlo(maze,discount = 0.9,epsilon=0.2)\n",
    "alg.render()"
   ]
  },
  {
   "cell_type": "code",
   "execution_count": 56,
   "metadata": {
    "scrolled": true
   },
   "outputs": [],
   "source": [
    "alg.run_algorithm(10000,reduce_eps =True)"
   ]
  },
  {
   "cell_type": "code",
   "execution_count": 57,
   "metadata": {
    "scrolled": false
   },
   "outputs": [
    {
     "data": {
      "image/png": "[encoded data removed]",
      "text/plain": [
       "<Figure size 720x360 with 1 Axes>"
      ]
     },
     "metadata": {
      "needs_background": "light"
     },
     "output_type": "display_data"
    },
    {
     "data": {
      "image/png": "[encoded data removed]",
      "text/plain": [
       "<Figure size 720x360 with 1 Axes>"
      ]
     },
     "metadata": {
      "needs_background": "light"
     },
     "output_type": "display_data"
    },
    {
     "data": {
      "image/png": "[encoded data removed]",
      "text/plain": [
       "<Figure size 720x360 with 1 Axes>"
      ]
     },
     "metadata": {
      "needs_background": "light"
     },
     "output_type": "display_data"
    },
    {
     "data": {
      "image/png": "[encoded data removed]",
      "text/plain": [
       "<Figure size 720x360 with 1 Axes>"
      ]
     },
     "metadata": {
      "needs_background": "light"
     },
     "output_type": "display_data"
    },
    {
     "data": {
      "image/png": "[encoded data removed]",
      "text/plain": [
       "<Figure size 720x360 with 1 Axes>"
      ]
     },
     "metadata": {
      "needs_background": "light"
     },
     "output_type": "display_data"
    },
    {
     "data": {
      "image/png": "[encoded data removed]",
      "text/plain": [
       "<Figure size 720x360 with 1 Axes>"
      ]
     },
     "metadata": {
      "needs_background": "light"
     },
     "output_type": "display_data"
    },
    {
     "data": {
      "image/png": "[encoded data removed]",
      "text/plain": [
       "<Figure size 720x360 with 1 Axes>"
      ]
     },
     "metadata": {
      "needs_background": "light"
     },
     "output_type": "display_data"
    },
    {
     "data": {
      "image/png": "[encoded data removed]",
      "text/plain": [
       "<Figure size 720x360 with 1 Axes>"
      ]
     },
     "metadata": {
      "needs_background": "light"
     },
     "output_type": "display_data"
    },
    {
     "data": {
      "image/png": "[encoded data removed]",
      "text/plain": [
       "<Figure size 720x360 with 1 Axes>"
      ]
     },
     "metadata": {
      "needs_background": "light"
     },
     "output_type": "display_data"
    },
    {
     "data": {
      "image/png": "[encoded data removed]",
      "text/plain": [
       "<Figure size 720x360 with 1 Axes>"
      ]
     },
     "metadata": {
      "needs_background": "light"
     },
     "output_type": "display_data"
    },
    {
     "data": {
      "image/png": "[encoded data removed]",
      "text/plain": [
       "<Figure size 720x360 with 1 Axes>"
      ]
     },
     "metadata": {
      "needs_background": "light"
     },
     "output_type": "display_data"
    }
   ],
   "source": [
    "alg.plot_last_episode()"
   ]
  },
  {
   "cell_type": "code",
   "execution_count": null,
   "metadata": {},
   "outputs": [],
   "source": []
  }
 ],
 "metadata": {
  "kernelspec": {
   "display_name": "Python 3",
   "language": "python",
   "name": "python3"
  },
  "language_info": {
   "codemirror_mode": {
    "name": "ipython",
    "version": 3
   },
   "file_extension": ".py",
   "mimetype": "text/x-python",
   "name": "python",
   "nbconvert_exporter": "python",
   "pygments_lexer": "ipython3",
   "version": "3.6.7"
  },
  "varInspector": {
   "cols": {
    "lenName": 16,
    "lenType": 16,
    "lenVar": 40
   },
   "kernels_config": {
    "python": {
     "delete_cmd_postfix": "",
     "delete_cmd_prefix": "del ",
     "library": "var_list.py",
     "varRefreshCmd": "print(var_dic_list())"
    },
    "r": {
     "delete_cmd_postfix": ") ",
     "delete_cmd_prefix": "rm(",
     "library": "var_list.r",
     "varRefreshCmd": "cat(var_dic_list()) "
    }
   },
   "types_to_exclude": [
    "module",
    "function",
    "builtin_function_or_method",
    "instance",
    "_Feature"
   ],
   "window_display": false
  }
 },
 "nbformat": 4,
 "nbformat_minor": 2
}
